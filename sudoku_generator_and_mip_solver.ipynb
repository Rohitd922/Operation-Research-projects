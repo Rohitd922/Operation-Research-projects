{
  "nbformat": 4,
  "nbformat_minor": 0,
  "metadata": {
    "colab": {
      "provenance": [],
      "authorship_tag": "ABX9TyOlRHSMpg1t1yqo+qACjJAb",
      "include_colab_link": true
    },
    "kernelspec": {
      "name": "python3",
      "display_name": "Python 3"
    },
    "language_info": {
      "name": "python"
    }
  },
  "cells": [
    {
      "cell_type": "markdown",
      "metadata": {
        "id": "view-in-github",
        "colab_type": "text"
      },
      "source": [
        "<a href=\"https://colab.research.google.com/github/Rohitd922/Operation-Research-projects/blob/master/sudoku_generator_and_mip_solver.ipynb\" target=\"_parent\"><img src=\"https://colab.research.google.com/assets/colab-badge.svg\" alt=\"Open In Colab\"/></a>"
      ]
    },
    {
      "cell_type": "code",
      "execution_count": 5,
      "metadata": {
        "colab": {
          "base_uri": "https://localhost:8080/"
        },
        "id": "xB5NHMcrSbsX",
        "outputId": "64f05801-970b-439c-8c57-0d63782c8216"
      },
      "outputs": [
        {
          "output_type": "stream",
          "name": "stdout",
          "text": [
            "Collecting gurobipy\n",
            "  Downloading gurobipy-12.0.1-cp310-cp310-manylinux2014_x86_64.manylinux_2_17_x86_64.whl.metadata (16 kB)\n",
            "Downloading gurobipy-12.0.1-cp310-cp310-manylinux2014_x86_64.manylinux_2_17_x86_64.whl (14.5 MB)\n",
            "\u001b[2K   \u001b[90m━━━━━━━━━━━━━━━━━━━━━━━━━━━━━━━━━━━━━━━━\u001b[0m \u001b[32m14.5/14.5 MB\u001b[0m \u001b[31m56.3 MB/s\u001b[0m eta \u001b[36m0:00:00\u001b[0m\n",
            "\u001b[?25hInstalling collected packages: gurobipy\n",
            "Successfully installed gurobipy-12.0.1\n"
          ]
        }
      ],
      "source": [
        "!pip install gurobipy"
      ]
    },
    {
      "cell_type": "code",
      "source": [
        "import os\n",
        "import random\n",
        "import gurobipy as gp\n",
        "from gurobipy import GRB\n",
        "import numpy as np\n",
        "import pandas as pd"
      ],
      "metadata": {
        "id": "NLpa7zOo4Hii"
      },
      "execution_count": 6,
      "outputs": []
    },
    {
      "cell_type": "markdown",
      "source": [
        "## Create a valid sudoku puzzle using recursion and backtracking"
      ],
      "metadata": {
        "id": "eleIDYx6noB3"
      }
    },
    {
      "cell_type": "code",
      "source": [
        "### Create a new sudoku puzzle\n",
        "\n",
        "def find_empty_cell(board):\n",
        "    \"\"\"\n",
        "    Returns (row, col) of an empty cell (value=0) or None if no empty cell.\n",
        "    \"\"\"\n",
        "    for r in range(9):\n",
        "        for c in range(9):\n",
        "            if board[r][c] == 0:\n",
        "                return (r, c)\n",
        "    return None\n",
        "\n",
        "def is_safe(board, row, col, num):\n",
        "    \"\"\"\n",
        "    Checks if placing `num` at board[row][col] is valid under Sudoku constraints.\n",
        "    \"\"\"\n",
        "    # Row check\n",
        "    if num in board[row]:\n",
        "        return False\n",
        "\n",
        "    # Column check\n",
        "    for r in range(9):\n",
        "        if board[r][col] == num:\n",
        "            return False\n",
        "\n",
        "    # 3x3 subgrid check\n",
        "    box_r = (row // 3) * 3\n",
        "    box_c = (col // 3) * 3\n",
        "    for rr in range(box_r, box_r + 3):\n",
        "        for cc in range(box_c, box_c + 3):\n",
        "            if board[rr][cc] == num:\n",
        "                return False\n",
        "\n",
        "    return True\n",
        "\n",
        "def solve_sudoku(board, limit_solutions=2):\n",
        "    \"\"\"\n",
        "    Backtracking solver that can also detect if there's more than 1 solution.\n",
        "      - `limit_solutions=2` means: if it finds 2 solutions, it can stop\n",
        "        (we only need to know if there's >1 solution).\n",
        "    Returns the number of solutions found (capped at `limit_solutions`).\n",
        "    \"\"\"\n",
        "    find = find_empty_cell(board)\n",
        "    if not find:\n",
        "        # No empty spaces => exactly 1 valid solution found\n",
        "        return 1\n",
        "    row, col = find\n",
        "\n",
        "    solutions_found = 0\n",
        "\n",
        "    for num in range(1, 10):\n",
        "        if is_safe(board, row, col, num):\n",
        "            board[row][col] = num\n",
        "            result = solve_sudoku(board, limit_solutions)\n",
        "            board[row][col] = 0  # backtrack\n",
        "\n",
        "            solutions_found += result\n",
        "            if solutions_found >= limit_solutions:\n",
        "                # We found 2 or more solutions, so we can stop searching\n",
        "                break\n",
        "\n",
        "    return solutions_found\n",
        "\n",
        "def generate_full_solution(board):\n",
        "    \"\"\"\n",
        "    Fills an empty (9x9) board with a valid, complete Sudoku solution (randomly).\n",
        "    \"\"\"\n",
        "    find = find_empty_cell(board)\n",
        "    if not find:\n",
        "        # Board is fully filled\n",
        "        return True\n",
        "    row, col = find\n",
        "\n",
        "    digits = list(range(1, 10))\n",
        "    random.shuffle(digits)  # shuffle to get a random solution each time\n",
        "\n",
        "    for num in digits:\n",
        "        if is_safe(board, row, col, num):\n",
        "            board[row][col] = num\n",
        "            if generate_full_solution(board):\n",
        "                return True\n",
        "            board[row][col] = 0  # backtrack\n",
        "\n",
        "    return False\n",
        "\n",
        "def puzzle_has_unique_solution(board):\n",
        "    \"\"\"\n",
        "    Returns True if 'board' has exactly one solution; otherwise False.\n",
        "    \"\"\"\n",
        "    # Make a copy since we modify the board during solving\n",
        "    temp_board = [row[:] for row in board]\n",
        "    return (solve_sudoku(temp_board, limit_solutions=2) == 1)\n",
        "\n",
        "def generate_sudoku_puzzle(empty_cells=40):\n",
        "    \"\"\"\n",
        "    Creates a Sudoku puzzle with about 'empty_cells' removed clues\n",
        "    and exactly 1 solution.\n",
        "      - Start by generating a full valid solution.\n",
        "      - Then try removing random cells while checking uniqueness.\n",
        "      - Return the puzzle as a 9x9 list of lists (0 = empty).\n",
        "    \"\"\"\n",
        "    # Step 1: Generate a complete (random) valid solution\n",
        "    board = [[0]*9 for _ in range(9)]\n",
        "    generate_full_solution(board)\n",
        "\n",
        "    # Step 2: Remove clues randomly, checking uniqueness\n",
        "    all_positions = [(r, c) for r in range(9) for c in range(9)]\n",
        "    random.shuffle(all_positions)\n",
        "\n",
        "    removed_count = 0\n",
        "    for (r, c) in all_positions:\n",
        "        if removed_count >= empty_cells:\n",
        "            break\n",
        "        backup = board[r][c]\n",
        "        board[r][c] = 0  # try removing\n",
        "\n",
        "        # Check if the puzzle still has a unique solution\n",
        "        if puzzle_has_unique_solution(board):\n",
        "            removed_count += 1\n",
        "        else:\n",
        "            # revert removal\n",
        "            board[r][c] = backup\n",
        "\n",
        "    return board\n",
        "\n",
        "def print_puzzle(puzzle):\n",
        "    \"\"\"\n",
        "    Prints the Sudoku puzzle in a simple grid form.\n",
        "    \"\"\"\n",
        "    for r in range(9):\n",
        "        if r % 3 == 0 and r != 0:\n",
        "            print(\"-\"*21)\n",
        "        row_str = \"\"\n",
        "        for c in range(9):\n",
        "            if c % 3 == 0 and c != 0:\n",
        "                row_str += \"| \"\n",
        "            val = puzzle[r][c]\n",
        "            row_str += f\"{val if val != 0 else '.'} \"\n",
        "        print(row_str)\n",
        "\n",
        "puzzle = generate_sudoku_puzzle(empty_cells=40)\n",
        "print_puzzle(puzzle)\n"
      ],
      "metadata": {
        "colab": {
          "base_uri": "https://localhost:8080/"
        },
        "id": "dXXG6Fhuzgjw",
        "outputId": "10aaa2fb-5563-457d-faf7-be1a5df338bd"
      },
      "execution_count": 7,
      "outputs": [
        {
          "output_type": "stream",
          "name": "stdout",
          "text": [
            "4 . . | . 1 . | 7 . . \n",
            "6 . 9 | . 3 8 | 4 . 1 \n",
            "1 . . | 9 . 6 | . . 8 \n",
            "---------------------\n",
            ". . 7 | . . 5 | 6 1 . \n",
            ". . . | . . . | 8 4 7 \n",
            "8 4 6 | . . 3 | 2 9 5 \n",
            "---------------------\n",
            "9 6 . | 8 . . | 1 3 4 \n",
            "7 . 4 | . . 1 | 5 . . \n",
            "5 . . | 3 2 4 | . . . \n"
          ]
        }
      ]
    },
    {
      "cell_type": "markdown",
      "source": [
        "## Use gurobi.py model to solve the model"
      ],
      "metadata": {
        "id": "mgW7qUSxnuwC"
      }
    },
    {
      "cell_type": "code",
      "source": [
        "## Create a Gurobi model\n",
        "sudoku = gp.Model(\"sudoku\")"
      ],
      "metadata": {
        "colab": {
          "base_uri": "https://localhost:8080/"
        },
        "id": "WsrhODzOwbnn",
        "outputId": "e5037c48-6578-47a4-e6a5-022172fd3612"
      },
      "execution_count": 8,
      "outputs": [
        {
          "output_type": "stream",
          "name": "stdout",
          "text": [
            "Restricted license - for non-production use only - expires 2026-11-23\n"
          ]
        }
      ]
    },
    {
      "cell_type": "code",
      "source": [
        "vars = sudoku.addVars(9, 9, 9, vtype=gp.GRB.BINARY, name=\"vars\")"
      ],
      "metadata": {
        "id": "uAqMG4NSwpY4"
      },
      "execution_count": 9,
      "outputs": []
    },
    {
      "cell_type": "code",
      "source": [
        "#### fix the variables to the sudoku generated values\n",
        "\n",
        "for r in range(9):\n",
        "    for c in range(9):\n",
        "        if puzzle[r][c] != 0:\n",
        "            sudoku.addConstr(vars[r, c, puzzle[r][c]-1] == 1, name=f\"fixed_{r}_{c}_{puzzle[r][c]}\")"
      ],
      "metadata": {
        "id": "CWE-7PBbi9LK"
      },
      "execution_count": 10,
      "outputs": []
    },
    {
      "cell_type": "code",
      "source": [
        "#### cell should take 1 value\n",
        "for r in range(9):\n",
        "  for c in range(9):\n",
        "    sudoku.addConstr(gp.quicksum(vars[r,c,k] for k in range(9)) == 1, name=f\"depth_sum_{r}_{c}\")"
      ],
      "metadata": {
        "id": "MDcTc46-jAsK"
      },
      "execution_count": 11,
      "outputs": []
    },
    {
      "cell_type": "code",
      "source": [
        "#### row sum should be equal to 1\n",
        "for r in range(9):\n",
        "  for k in range(9):\n",
        "    sudoku.addConstr(gp.quicksum(vars[r,c,k] for c in range(9)) == 1, name=f\"row_sum_{r}_{k}\")"
      ],
      "metadata": {
        "id": "EW-j9z21j4ML"
      },
      "execution_count": 12,
      "outputs": []
    },
    {
      "cell_type": "code",
      "source": [
        "#### column sum should be equal to 1\n",
        "\n",
        "for c in range(9):\n",
        "  for k in range(9):\n",
        "    sudoku.addConstr(gp.quicksum(vars[r,c,k] for r in range(9))==1, name=f\"col_sum_{c}_{k}\")"
      ],
      "metadata": {
        "id": "_Pb9HWJVkL1Y"
      },
      "execution_count": 13,
      "outputs": []
    },
    {
      "cell_type": "code",
      "source": [
        "#### in submatrix of size 3x3\n",
        "for r in (range(0,9,3)):\n",
        "  for c in (range(0,9,3)):\n",
        "    for k in range(9):\n",
        "      sudoku.addConstr(gp.quicksum(vars[rr,cc,k] for rr in range(r,r+3) for cc in range(c,c+3))==1, name=f\"submatrix_{r}_{c}_{k}\")"
      ],
      "metadata": {
        "id": "lpp6JfM8kh6D"
      },
      "execution_count": 14,
      "outputs": []
    },
    {
      "cell_type": "code",
      "source": [
        "#### solve the sudoku\n",
        "\n",
        "sudoku.params.TimeLimit = 60\n",
        "sudoku.optimize()"
      ],
      "metadata": {
        "colab": {
          "base_uri": "https://localhost:8080/"
        },
        "id": "BRtNIXW6lTdI",
        "outputId": "aceb70bc-c903-476f-95c8-b931a6a255d0"
      },
      "execution_count": 15,
      "outputs": [
        {
          "output_type": "stream",
          "name": "stdout",
          "text": [
            "Set parameter TimeLimit to value 60\n",
            "Gurobi Optimizer version 12.0.1 build v12.0.1rc0 (linux64 - \"Ubuntu 22.04.3 LTS\")\n",
            "\n",
            "CPU model: Intel(R) Xeon(R) CPU @ 2.20GHz, instruction set [SSE2|AVX|AVX2]\n",
            "Thread count: 1 physical cores, 2 logical processors, using up to 2 threads\n",
            "\n",
            "Non-default parameters:\n",
            "TimeLimit  60\n",
            "\n",
            "Optimize a model with 365 rows, 729 columns and 2957 nonzeros\n",
            "Model fingerprint: 0xb46b1935\n",
            "Variable types: 0 continuous, 729 integer (729 binary)\n",
            "Coefficient statistics:\n",
            "  Matrix range     [1e+00, 1e+00]\n",
            "  Objective range  [0e+00, 0e+00]\n",
            "  Bounds range     [1e+00, 1e+00]\n",
            "  RHS range        [1e+00, 1e+00]\n",
            "Presolve removed 365 rows and 729 columns\n",
            "Presolve time: 0.00s\n",
            "Presolve: All rows and columns removed\n",
            "\n",
            "Explored 0 nodes (0 simplex iterations) in 0.03 seconds (0.00 work units)\n",
            "Thread count was 1 (of 2 available processors)\n",
            "\n",
            "Solution count 1: 0 \n",
            "\n",
            "Optimal solution found (tolerance 1.00e-04)\n",
            "Best objective 0.000000000000e+00, best bound 0.000000000000e+00, gap 0.0000%\n"
          ]
        }
      ]
    },
    {
      "cell_type": "code",
      "source": [
        "#### print the values of vars in form of a 3d matrix\n",
        "\n",
        "vars[0,0,3].X\n",
        "\n",
        "### initialize an empty np array of size 9x9\n",
        "solution = np.zeros((9,9), dtype=int)\n",
        "\n",
        "for r in range(9):\n",
        "  for c in range(9):\n",
        "    for k in range(9):\n",
        "      if vars[r,c,k].X == 1:\n",
        "        solution[r,c] = k+1\n",
        "        break\n",
        "\n",
        "print_puzzle(solution)\n"
      ],
      "metadata": {
        "colab": {
          "base_uri": "https://localhost:8080/"
        },
        "id": "T53NcyErmRtL",
        "outputId": "3bff38bf-6fd5-44e9-914b-834ffe368201"
      },
      "execution_count": 16,
      "outputs": [
        {
          "output_type": "stream",
          "name": "stdout",
          "text": [
            "4 8 3 | 5 1 2 | 7 6 9 \n",
            "6 2 9 | 7 3 8 | 4 5 1 \n",
            "1 7 5 | 9 4 6 | 3 2 8 \n",
            "---------------------\n",
            "2 9 7 | 4 8 5 | 6 1 3 \n",
            "3 5 1 | 2 6 9 | 8 4 7 \n",
            "8 4 6 | 1 7 3 | 2 9 5 \n",
            "---------------------\n",
            "9 6 2 | 8 5 7 | 1 3 4 \n",
            "7 3 4 | 6 9 1 | 5 8 2 \n",
            "5 1 8 | 3 2 4 | 9 7 6 \n"
          ]
        }
      ]
    },
    {
      "cell_type": "code",
      "source": [
        "print_puzzle(np.array(puzzle))"
      ],
      "metadata": {
        "colab": {
          "base_uri": "https://localhost:8080/"
        },
        "id": "y3jX7hBimnEn",
        "outputId": "ab65b58c-5025-4913-c1d1-b6434d6121a7"
      },
      "execution_count": 17,
      "outputs": [
        {
          "output_type": "stream",
          "name": "stdout",
          "text": [
            "4 . . | . 1 . | 7 . . \n",
            "6 . 9 | . 3 8 | 4 . 1 \n",
            "1 . . | 9 . 6 | . . 8 \n",
            "---------------------\n",
            ". . 7 | . . 5 | 6 1 . \n",
            ". . . | . . . | 8 4 7 \n",
            "8 4 6 | . . 3 | 2 9 5 \n",
            "---------------------\n",
            "9 6 . | 8 . . | 1 3 4 \n",
            "7 . 4 | . . 1 | 5 . . \n",
            "5 . . | 3 2 4 | . . . \n"
          ]
        }
      ]
    },
    {
      "cell_type": "code",
      "source": [],
      "metadata": {
        "id": "TlD3_0WonYia"
      },
      "execution_count": 17,
      "outputs": []
    }
  ]
}